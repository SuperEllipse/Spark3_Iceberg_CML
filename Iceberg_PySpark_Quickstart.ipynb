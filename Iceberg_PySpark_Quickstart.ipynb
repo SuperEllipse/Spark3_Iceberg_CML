{
 "cells": [
  {
   "cell_type": "code",
   "execution_count": 2,
   "id": "beginning-mistress",
   "metadata": {},
   "outputs": [],
   "source": [
    "from pyspark.sql import SparkSession\n",
    "from pyspark.sql.functions import *\n",
    "\n",
    "spark = SparkSession.builder.master('local[*]') \\\n",
    "  .config(\"spark.jars.packages\",\"org.apache.iceberg:iceberg-spark3-runtime:0.12.1\") \\\n",
    "  .config(\"spark.sql.extensions\",\"org.apache.iceberg.spark.extensions.IcebergSparkSessionExtensions\") \\\n",
    "  .config(\"spark.sql.catalog.spark_catalog\",\"org.apache.iceberg.spark.SparkSessionCatalog\") \\\n",
    "  .config(\"spark.sql.catalog.spark_catalog.type\",\"hive\") \\\n",
    "  .getOrCreate()"
   ]
  },
  {
   "cell_type": "code",
   "execution_count": 3,
   "id": "above-metadata",
   "metadata": {},
   "outputs": [
    {
     "name": "stdout",
     "output_type": "stream",
     "text": [
      "+-------------+---------+\n",
      "|      catalog|namespace|\n",
      "+-------------+---------+\n",
      "|spark_catalog|   testdb|\n",
      "+-------------+---------+\n",
      "\n"
     ]
    }
   ],
   "source": [
    "  # Using a local Spark Catalog\n",
    "\n",
    "spark.sql(\"CREATE DATABASE IF NOT EXISTS spark_catalog.testdb \")\n",
    "spark.sql(\"USE spark_catalog.testdb\")\n",
    "spark.sql(\"SHOW CURRENT NAMESPACE\").show()\n",
    "#spark.sql(\"DROP TABLE testtable\")"
   ]
  },
  {
   "cell_type": "code",
   "execution_count": 4,
   "id": "synthetic-hurricane",
   "metadata": {},
   "outputs": [
    {
     "data": {
      "text/plain": [
       "DataFrame[]"
      ]
     },
     "execution_count": 4,
     "metadata": {},
     "output_type": "execute_result"
    }
   ],
   "source": [
    "spark.sql(\"CREATE TABLE IF NOT EXISTS testtable (id bigint, data string) USING iceberg\")"
   ]
  },
  {
   "cell_type": "code",
   "execution_count": 5,
   "id": "increased-second",
   "metadata": {},
   "outputs": [
    {
     "name": "stdout",
     "output_type": "stream",
     "text": [
      "+-----------------------+-------------------+-------------------+-------------------+\n",
      "|made_current_at        |snapshot_id        |parent_id          |is_current_ancestor|\n",
      "+-----------------------+-------------------+-------------------+-------------------+\n",
      "|2021-11-19 10:08:15.886|3492322305412256778|null               |true               |\n",
      "|2021-11-19 10:21:55.566|107550928418073495 |3492322305412256778|true               |\n",
      "|2021-11-19 10:28:30.292|1545408577715836429|107550928418073495 |true               |\n",
      "|2021-11-19 10:28:33.014|2649908378426818566|1545408577715836429|true               |\n",
      "|2021-11-19 10:34:33.135|3533974690975069464|2649908378426818566|true               |\n",
      "+-----------------------+-------------------+-------------------+-------------------+\n",
      "\n"
     ]
    }
   ],
   "source": [
    "spark.read.format(\"iceberg\").load(\"spark_catalog.testdb.testtable.history\").show(20, False)"
   ]
  },
  {
   "cell_type": "code",
   "execution_count": 6,
   "id": "short-cooper",
   "metadata": {},
   "outputs": [
    {
     "name": "stdout",
     "output_type": "stream",
     "text": [
      "+-----------------------+-------------------+-------------------+---------+----------------------------------------------------------------------------------------------------------------------------------------------------+------------------------------------------------------------------------------------------------------------------------------------------------------------------------------------------------------------------------------------------------------------------------------------------------+\n",
      "|committed_at           |snapshot_id        |parent_id          |operation|manifest_list                                                                                                                                       |summary                                                                                                                                                                                                                                                                                         |\n",
      "+-----------------------+-------------------+-------------------+---------+----------------------------------------------------------------------------------------------------------------------------------------------------+------------------------------------------------------------------------------------------------------------------------------------------------------------------------------------------------------------------------------------------------------------------------------------------------+\n",
      "|2021-11-19 10:08:15.886|3492322305412256778|null               |append   |s3a://gd01-uat2/warehouse/tablespace/external/hive/testdb.db/testtable/metadata/snap-3492322305412256778-1-be901a2e-e857-4b22-b830-737c79bb87bb.avro|{spark.app.id -> local-1637314257373, added-data-files -> 1, added-records -> 3, added-files-size -> 628, changed-partition-count -> 1, total-records -> 3, total-files-size -> 628, total-data-files -> 1, total-delete-files -> 0, total-position-deletes -> 0, total-equality-deletes -> 0}  |\n",
      "|2021-11-19 10:21:55.566|107550928418073495 |3492322305412256778|append   |s3a://gd01-uat2/warehouse/tablespace/external/hive/testdb.db/testtable/metadata/snap-107550928418073495-1-b2ad9317-f3b0-4fbf-b63e-71afb9b17c3d.avro |{spark.app.id -> local-1637314257373, added-data-files -> 1, added-records -> 3, added-files-size -> 628, changed-partition-count -> 1, total-records -> 6, total-files-size -> 1256, total-data-files -> 2, total-delete-files -> 0, total-position-deletes -> 0, total-equality-deletes -> 0} |\n",
      "|2021-11-19 10:28:30.292|1545408577715836429|107550928418073495 |append   |s3a://gd01-uat2/warehouse/tablespace/external/hive/testdb.db/testtable/metadata/snap-1545408577715836429-1-8879a83c-8440-474f-b440-be95b4384fa2.avro|{spark.app.id -> local-1637314257373, added-data-files -> 1, added-records -> 3, added-files-size -> 628, changed-partition-count -> 1, total-records -> 9, total-files-size -> 1884, total-data-files -> 3, total-delete-files -> 0, total-position-deletes -> 0, total-equality-deletes -> 0} |\n",
      "|2021-11-19 10:28:33.014|2649908378426818566|1545408577715836429|append   |s3a://gd01-uat2/warehouse/tablespace/external/hive/testdb.db/testtable/metadata/snap-2649908378426818566-1-445e1639-2939-4071-b6ec-c444f80ee8aa.avro|{spark.app.id -> local-1637314257373, added-data-files -> 1, added-records -> 3, added-files-size -> 628, changed-partition-count -> 1, total-records -> 12, total-files-size -> 2512, total-data-files -> 4, total-delete-files -> 0, total-position-deletes -> 0, total-equality-deletes -> 0}|\n",
      "|2021-11-19 10:34:33.135|3533974690975069464|2649908378426818566|append   |s3a://gd01-uat2/warehouse/tablespace/external/hive/testdb.db/testtable/metadata/snap-3533974690975069464-1-0ae8f40f-9560-4b46-8b10-805de6e02db1.avro|{spark.app.id -> local-1637317760667, added-data-files -> 1, added-records -> 3, added-files-size -> 628, changed-partition-count -> 1, total-records -> 15, total-files-size -> 3140, total-data-files -> 5, total-delete-files -> 0, total-position-deletes -> 0, total-equality-deletes -> 0}|\n",
      "+-----------------------+-------------------+-------------------+---------+----------------------------------------------------------------------------------------------------------------------------------------------------+------------------------------------------------------------------------------------------------------------------------------------------------------------------------------------------------------------------------------------------------------------------------------------------------+\n",
      "\n"
     ]
    }
   ],
   "source": [
    "spark.read.format(\"iceberg\").load(\"spark_catalog.testdb.testtable.snapshots\").show(20, False)"
   ]
  },
  {
   "cell_type": "code",
   "execution_count": 7,
   "id": "elementary-threshold",
   "metadata": {},
   "outputs": [
    {
     "name": "stdout",
     "output_type": "stream",
     "text": [
      "+-------+---------------------------------------------------------------------------------------------------------------------------------------+-----------+------------+------------------+------------------+----------------+-----------------+----------------+-----------------------+-----------------------+------------+-------------+------------+\n",
      "|content|file_path                                                                                                                              |file_format|record_count|file_size_in_bytes|column_sizes      |value_counts    |null_value_counts|nan_value_counts|lower_bounds           |upper_bounds           |key_metadata|split_offsets|equality_ids|\n",
      "+-------+---------------------------------------------------------------------------------------------------------------------------------------+-----------+------------+------------------+------------------+----------------+-----------------+----------------+-----------------------+-----------------------+------------+-------------+------------+\n",
      "|0      |s3a://gd01-uat2/warehouse/tablespace/external/hive/testdb.db/testtable/data/00000-3-5a8209ad-e336-4a04-a379-4fc3fb5cb4ce-00001.parquet |PARQUET    |3           |628               |{1 -> 51, 2 -> 54}|{1 -> 3, 2 -> 3}|{1 -> 0, 2 -> 0} |{}              |{1 -> \u0001\u0000\u0000\u0000\u0000\u0000\u0000\u0000, 2 -> x}|{1 -> \u0003\u0000\u0000\u0000\u0000\u0000\u0000\u0000, 2 -> z}|null        |[4]          |null        |\n",
      "|0      |s3a://gd01-uat2/warehouse/tablespace/external/hive/testdb.db/testtable/data/00000-24-8010e40a-231b-4659-a6c1-98e8a89e0c37-00001.parquet|PARQUET    |3           |628               |{1 -> 51, 2 -> 54}|{1 -> 3, 2 -> 3}|{1 -> 0, 2 -> 0} |{}              |{1 -> \u0001\u0000\u0000\u0000\u0000\u0000\u0000\u0000, 2 -> a}|{1 -> \u0003\u0000\u0000\u0000\u0000\u0000\u0000\u0000, 2 -> c}|null        |[4]          |null        |\n",
      "|0      |s3a://gd01-uat2/warehouse/tablespace/external/hive/testdb.db/testtable/data/00000-20-d480ba2a-48e5-455d-9215-9f1306dec05b-00001.parquet|PARQUET    |3           |628               |{1 -> 51, 2 -> 54}|{1 -> 3, 2 -> 3}|{1 -> 0, 2 -> 0} |{}              |{1 -> \u0001\u0000\u0000\u0000\u0000\u0000\u0000\u0000, 2 -> a}|{1 -> \u0003\u0000\u0000\u0000\u0000\u0000\u0000\u0000, 2 -> c}|null        |[4]          |null        |\n",
      "|0      |s3a://gd01-uat2/warehouse/tablespace/external/hive/testdb.db/testtable/data/00000-19-5d6b9619-9d93-4a6f-8809-ec68e66f446a-00001.parquet|PARQUET    |3           |628               |{1 -> 51, 2 -> 54}|{1 -> 3, 2 -> 3}|{1 -> 0, 2 -> 0} |{}              |{1 -> \u0001\u0000\u0000\u0000\u0000\u0000\u0000\u0000, 2 -> a}|{1 -> \u0003\u0000\u0000\u0000\u0000\u0000\u0000\u0000, 2 -> c}|null        |[4]          |null        |\n",
      "|0      |s3a://gd01-uat2/warehouse/tablespace/external/hive/testdb.db/testtable/data/00000-15-8838e68a-9b6a-4f49-b306-4e3335d9d2bf-00001.parquet|PARQUET    |3           |628               |{1 -> 51, 2 -> 54}|{1 -> 3, 2 -> 3}|{1 -> 0, 2 -> 0} |{}              |{1 -> \u0001\u0000\u0000\u0000\u0000\u0000\u0000\u0000, 2 -> a}|{1 -> \u0003\u0000\u0000\u0000\u0000\u0000\u0000\u0000, 2 -> c}|null        |[4]          |null        |\n",
      "+-------+---------------------------------------------------------------------------------------------------------------------------------------+-----------+------------+------------------+------------------+----------------+-----------------+----------------+-----------------------+-----------------------+------------+-------------+------------+\n",
      "\n"
     ]
    }
   ],
   "source": [
    "spark.read.format(\"iceberg\").load(\"spark_catalog.testdb.testtable.files\").show(20, False)"
   ]
  },
  {
   "cell_type": "code",
   "execution_count": 8,
   "id": "systematic-spokesman",
   "metadata": {},
   "outputs": [
    {
     "data": {
      "text/plain": [
       "DataFrame[]"
      ]
     },
     "execution_count": 8,
     "metadata": {},
     "output_type": "execute_result"
    }
   ],
   "source": [
    "# Insert using Iceberg format\n",
    "spark.sql(\"INSERT INTO testtable VALUES (1, 'x'), (2, 'y'), (3, 'z')\")"
   ]
  },
  {
   "cell_type": "code",
   "execution_count": 9,
   "id": "ignored-times",
   "metadata": {},
   "outputs": [
    {
     "name": "stdout",
     "output_type": "stream",
     "text": [
      "+---+----+\n",
      "| id|data|\n",
      "+---+----+\n",
      "|  1|   a|\n",
      "|  2|   b|\n",
      "|  3|   c|\n",
      "|  1|   x|\n",
      "|  2|   y|\n",
      "|  3|   z|\n",
      "|  1|   a|\n",
      "|  2|   b|\n",
      "|  3|   c|\n",
      "|  1|   a|\n",
      "|  2|   b|\n",
      "|  3|   c|\n",
      "|  1|   a|\n",
      "|  2|   b|\n",
      "|  3|   c|\n",
      "|  1|   x|\n",
      "|  2|   y|\n",
      "|  3|   z|\n",
      "+---+----+\n",
      "\n"
     ]
    }
   ],
   "source": [
    "# Query using select\n",
    "spark.sql(\"SELECT * FROM testtable\").show()"
   ]
  },
  {
   "cell_type": "code",
   "execution_count": 10,
   "id": "associate-ecuador",
   "metadata": {},
   "outputs": [
    {
     "name": "stdout",
     "output_type": "stream",
     "text": [
      "+---+----+\n",
      "| id|data|\n",
      "+---+----+\n",
      "|  1|   a|\n",
      "|  2|   b|\n",
      "|  3|   c|\n",
      "|  1|   x|\n",
      "|  2|   y|\n",
      "|  3|   z|\n",
      "|  1|   a|\n",
      "|  2|   b|\n",
      "|  3|   c|\n",
      "|  1|   a|\n",
      "|  2|   b|\n",
      "|  3|   c|\n",
      "|  1|   a|\n",
      "|  2|   b|\n",
      "|  3|   c|\n",
      "|  1|   x|\n",
      "|  2|   y|\n",
      "|  3|   z|\n",
      "+---+----+\n",
      "\n"
     ]
    }
   ],
   "source": [
    "# Query using DF - All Data\n",
    "df = spark.table(\"spark_catalog.testdb.testtable\")\n",
    "df.show(100)"
   ]
  },
  {
   "cell_type": "code",
   "execution_count": 49,
   "id": "binary-lobby",
   "metadata": {},
   "outputs": [
    {
     "name": "stdout",
     "output_type": "stream",
     "text": [
      "timestamp = 1637370685.641575\n"
     ]
    }
   ],
   "source": [
    "from datetime import datetime\n",
    "\n",
    "# current date and time\n",
    "now = datetime.now()\n",
    "\n",
    "timestamp = datetime.timestamp(now)\n",
    "print(\"timestamp =\", timestamp)"
   ]
  },
  {
   "cell_type": "code",
   "execution_count": 66,
   "id": "differential-corruption",
   "metadata": {},
   "outputs": [
    {
     "name": "stdout",
     "output_type": "stream",
     "text": [
      "+---+----+\n",
      "| id|data|\n",
      "+---+----+\n",
      "|  1|   a|\n",
      "|  2|   b|\n",
      "|  3|   c|\n",
      "|  1|   d|\n",
      "|  2|   e|\n",
      "|  3|   f|\n",
      "|  1|   x|\n",
      "|  2|   y|\n",
      "|  3|   z|\n",
      "|  1|   a|\n",
      "|  2|   b|\n",
      "|  3|   c|\n",
      "|  1|   a|\n",
      "|  2|   b|\n",
      "|  3|   c|\n",
      "|  1|   a|\n",
      "|  2|   b|\n",
      "|  3|   c|\n",
      "|  1|   x|\n",
      "|  2|   y|\n",
      "|  3|   z|\n",
      "+---+----+\n",
      "\n"
     ]
    }
   ],
   "source": [
    "# Query using a point in time\n",
    "df = spark.read.option(\"as-of-timestamp\", int(timestamp*1000)).format(\"iceberg\").load(\"spark_catalog.testdb.testtable\")\n",
    "df.show(100)"
   ]
  },
  {
   "cell_type": "code",
   "execution_count": 67,
   "id": "cathedral-point",
   "metadata": {},
   "outputs": [
    {
     "data": {
      "text/plain": [
       "DataFrame[]"
      ]
     },
     "execution_count": 67,
     "metadata": {},
     "output_type": "execute_result"
    }
   ],
   "source": [
    "# Insert using Iceberg format\n",
    "spark.sql(\"INSERT INTO testtable VALUES (1, 'd'), (2, 'e'), (3, 'f')\")"
   ]
  },
  {
   "cell_type": "code",
   "execution_count": null,
   "id": "abroad-transfer",
   "metadata": {},
   "outputs": [],
   "source": []
  }
 ],
 "metadata": {
  "kernelspec": {
   "display_name": "Python 3",
   "language": "python",
   "name": "python3"
  },
  "language_info": {
   "codemirror_mode": {
    "name": "ipython",
    "version": 3
   },
   "file_extension": ".py",
   "mimetype": "text/x-python",
   "name": "python",
   "nbconvert_exporter": "python",
   "pygments_lexer": "ipython3",
   "version": "3.6.13"
  }
 },
 "nbformat": 4,
 "nbformat_minor": 5
}
